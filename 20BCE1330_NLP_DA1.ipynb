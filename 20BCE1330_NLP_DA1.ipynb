{
  "nbformat": 4,
  "nbformat_minor": 0,
  "metadata": {
    "colab": {
      "provenance": []
    },
    "kernelspec": {
      "name": "python3",
      "display_name": "Python 3"
    },
    "language_info": {
      "name": "python"
    }
  },
  "cells": [
    {
      "cell_type": "markdown",
      "source": [
        "`1) Utilize Python NLTK (Natural Language Tool Kit) Platform and do the following. Install relevant Packages and Libraries`"
      ],
      "metadata": {
        "id": "2t_3Mp0SA7B0"
      }
    },
    {
      "cell_type": "markdown",
      "source": [
        "Explore Brown Corpus and find the size, tokens, categories."
      ],
      "metadata": {
        "id": "YgU1Hn5mGLel"
      }
    },
    {
      "cell_type": "code",
      "execution_count": 3,
      "metadata": {
        "colab": {
          "base_uri": "https://localhost:8080/"
        },
        "id": "cAFQgIudAwET",
        "outputId": "a2d18919-e6f0-4f40-87d1-16b9ad3c8356"
      },
      "outputs": [
        {
          "output_type": "stream",
          "name": "stderr",
          "text": [
            "[nltk_data] Downloading package brown to /root/nltk_data...\n",
            "[nltk_data]   Unzipping corpora/brown.zip.\n"
          ]
        },
        {
          "output_type": "execute_result",
          "data": {
            "text/plain": [
              "['adventure',\n",
              " 'belles_lettres',\n",
              " 'editorial',\n",
              " 'fiction',\n",
              " 'government',\n",
              " 'hobbies',\n",
              " 'humor',\n",
              " 'learned',\n",
              " 'lore',\n",
              " 'mystery',\n",
              " 'news',\n",
              " 'religion',\n",
              " 'reviews',\n",
              " 'romance',\n",
              " 'science_fiction']"
            ]
          },
          "metadata": {},
          "execution_count": 3
        }
      ],
      "source": [
        "import nltk\n",
        "from nltk.corpus import brown\n",
        "nltk.download('brown')\n",
        "brown.categories()"
      ]
    },
    {
      "cell_type": "code",
      "source": [
        "len(brown.words())"
      ],
      "metadata": {
        "colab": {
          "base_uri": "https://localhost:8080/"
        },
        "id": "zJ_tl03LB5eY",
        "outputId": "dc914604-2ac2-4fb9-9309-b32deccd100a"
      },
      "execution_count": null,
      "outputs": [
        {
          "output_type": "execute_result",
          "data": {
            "text/plain": [
              "1161192"
            ]
          },
          "metadata": {},
          "execution_count": 3
        }
      ]
    },
    {
      "cell_type": "code",
      "source": [
        "brown.words()"
      ],
      "metadata": {
        "id": "sz22Ge9LMJE5",
        "outputId": "0ca052c1-23aa-412d-9398-92d2c6c9e479",
        "colab": {
          "base_uri": "https://localhost:8080/"
        }
      },
      "execution_count": null,
      "outputs": [
        {
          "output_type": "execute_result",
          "data": {
            "text/plain": [
              "['The', 'Fulton', 'County', 'Grand', 'Jury', 'said', ...]"
            ]
          },
          "metadata": {},
          "execution_count": 24
        }
      ]
    },
    {
      "cell_type": "code",
      "source": [
        "brown.words(categories='religion')"
      ],
      "metadata": {
        "colab": {
          "base_uri": "https://localhost:8080/"
        },
        "id": "u0XAeFX1cYSc",
        "outputId": "94dee451-2ffc-4af5-8fe8-5eec5ed3697b"
      },
      "execution_count": null,
      "outputs": [
        {
          "output_type": "execute_result",
          "data": {
            "text/plain": [
              "['As', 'a', 'result', ',', 'although', 'we', 'still', ...]"
            ]
          },
          "metadata": {},
          "execution_count": 14
        }
      ]
    },
    {
      "cell_type": "code",
      "source": [
        "brown.words(fileids=['cg22'])"
      ],
      "metadata": {
        "colab": {
          "base_uri": "https://localhost:8080/"
        },
        "id": "B2UkQSN2ccGd",
        "outputId": "2e378386-9c34-4815-a624-ea7ad670a83f"
      },
      "execution_count": null,
      "outputs": [
        {
          "output_type": "execute_result",
          "data": {
            "text/plain": [
              "['Does', 'our', 'society', 'have', 'a', 'runaway', ',', ...]"
            ]
          },
          "metadata": {},
          "execution_count": 15
        }
      ]
    },
    {
      "cell_type": "code",
      "source": [
        "brown.sents(categories=['news', 'editorial', 'reviews'])"
      ],
      "metadata": {
        "colab": {
          "base_uri": "https://localhost:8080/"
        },
        "id": "9Eg6gVF6ckVP",
        "outputId": "a8c022e9-1a0a-4220-957f-c6f30c3cd04a"
      },
      "execution_count": null,
      "outputs": [
        {
          "output_type": "execute_result",
          "data": {
            "text/plain": [
              "[['The', 'Fulton', 'County', 'Grand', 'Jury', 'said', 'Friday', 'an', 'investigation', 'of', \"Atlanta's\", 'recent', 'primary', 'election', 'produced', '``', 'no', 'evidence', \"''\", 'that', 'any', 'irregularities', 'took', 'place', '.'], ['The', 'jury', 'further', 'said', 'in', 'term-end', 'presentments', 'that', 'the', 'City', 'Executive', 'Committee', ',', 'which', 'had', 'over-all', 'charge', 'of', 'the', 'election', ',', '``', 'deserves', 'the', 'praise', 'and', 'thanks', 'of', 'the', 'City', 'of', 'Atlanta', \"''\", 'for', 'the', 'manner', 'in', 'which', 'the', 'election', 'was', 'conducted', '.'], ...]"
            ]
          },
          "metadata": {},
          "execution_count": 16
        }
      ]
    },
    {
      "cell_type": "markdown",
      "source": [
        "Find the size of word tokens "
      ],
      "metadata": {
        "id": "tlib9oIrGSys"
      }
    },
    {
      "cell_type": "code",
      "source": [
        "len('tokens')"
      ],
      "metadata": {
        "id": "9nDQ4vi0GSZ-",
        "colab": {
          "base_uri": "https://localhost:8080/"
        },
        "outputId": "dbbc6be9-7866-479b-8791-da0590c314fe"
      },
      "execution_count": null,
      "outputs": [
        {
          "output_type": "execute_result",
          "data": {
            "text/plain": [
              "6"
            ]
          },
          "metadata": {},
          "execution_count": 17
        }
      ]
    },
    {
      "cell_type": "markdown",
      "source": [
        "Find the size of word types?"
      ],
      "metadata": {
        "id": "4kjMZux0SHmN"
      }
    },
    {
      "cell_type": "code",
      "source": [
        "len('types')"
      ],
      "metadata": {
        "colab": {
          "base_uri": "https://localhost:8080/"
        },
        "id": "7rJdc8DiSKrB",
        "outputId": "d49dcc80-0f31-4497-bec8-c8b66ea2f097"
      },
      "execution_count": null,
      "outputs": [
        {
          "output_type": "execute_result",
          "data": {
            "text/plain": [
              "5"
            ]
          },
          "metadata": {},
          "execution_count": 7
        }
      ]
    },
    {
      "cell_type": "markdown",
      "source": [
        "Find the size of the category “government”"
      ],
      "metadata": {
        "id": "X0_YVlF2SLL0"
      }
    },
    {
      "cell_type": "code",
      "source": [
        "len(brown.words(categories='government'))"
      ],
      "metadata": {
        "colab": {
          "base_uri": "https://localhost:8080/"
        },
        "id": "rYm9xfj0SNXy",
        "outputId": "13f37f3d-a25d-4eaa-c11a-9c60b70c3f6c"
      },
      "execution_count": null,
      "outputs": [
        {
          "output_type": "execute_result",
          "data": {
            "text/plain": [
              "70117"
            ]
          },
          "metadata": {},
          "execution_count": 6
        }
      ]
    },
    {
      "cell_type": "markdown",
      "source": [
        "List the most frequent tokens"
      ],
      "metadata": {
        "id": "crJ854opSNwO"
      }
    },
    {
      "cell_type": "code",
      "source": [
        "brown_govt_tagged = brown.tagged_words(categories='government', tagset='universal')\n",
        "tag_fd = nltk.FreqDist(tag for (word, tag) in brown_news_tagged)\n",
        "tag_fd.most_common()"
      ],
      "metadata": {
        "id": "6k543hQRSP2S",
        "colab": {
          "base_uri": "https://localhost:8080/"
        },
        "outputId": "78c9f1cf-0340-46ad-e53e-9fe21f249bc9"
      },
      "execution_count": 8,
      "outputs": [
        {
          "output_type": "execute_result",
          "data": {
            "text/plain": [
              "[('NOUN', 19486),\n",
              " ('ADP', 10221),\n",
              " ('VERB', 9872),\n",
              " ('DET', 8043),\n",
              " ('.', 7598),\n",
              " ('ADJ', 5692),\n",
              " ('CONJ', 2560),\n",
              " ('ADV', 2333),\n",
              " ('NUM', 1612),\n",
              " ('PRT', 1358),\n",
              " ('PRON', 1269),\n",
              " ('X', 73)]"
            ]
          },
          "metadata": {},
          "execution_count": 8
        }
      ]
    },
    {
      "cell_type": "markdown",
      "source": [
        "`2) Explore the corpora available in NLTK (any two)`"
      ],
      "metadata": {
        "id": "JES34yNnSTQ6"
      }
    },
    {
      "cell_type": "markdown",
      "source": [
        "POS TAGGED"
      ],
      "metadata": {
        "id": "_mgDU_QueQpd"
      }
    },
    {
      "cell_type": "code",
      "source": [
        "from nltk.tokenize import word_tokenize\n",
        "nltk.download('punkt')\n",
        "nltk.download('averaged_perceptron_tagger')\n",
        "text = word_tokenize(\"Mr. and Mrs. Dursley of number four, Privet Drive, were proud to say that they were perfectly normal, thank you very much.\")\n",
        "nltk.pos_tag(text)"
      ],
      "metadata": {
        "colab": {
          "base_uri": "https://localhost:8080/"
        },
        "id": "a4B3akbOdbSo",
        "outputId": "c4198d12-f4d6-4915-904c-9f31bbe4f2e4"
      },
      "execution_count": 14,
      "outputs": [
        {
          "output_type": "stream",
          "name": "stderr",
          "text": [
            "[nltk_data] Downloading package punkt to /root/nltk_data...\n",
            "[nltk_data]   Package punkt is already up-to-date!\n",
            "[nltk_data] Downloading package averaged_perceptron_tagger to\n",
            "[nltk_data]     /root/nltk_data...\n",
            "[nltk_data]   Package averaged_perceptron_tagger is already up-to-\n",
            "[nltk_data]       date!\n"
          ]
        },
        {
          "output_type": "execute_result",
          "data": {
            "text/plain": [
              "[('Mr.', 'NNP'),\n",
              " ('and', 'CC'),\n",
              " ('Mrs.', 'NNP'),\n",
              " ('Dursley', 'NNP'),\n",
              " ('of', 'IN'),\n",
              " ('number', 'NN'),\n",
              " ('four', 'CD'),\n",
              " (',', ','),\n",
              " ('Privet', 'NNP'),\n",
              " ('Drive', 'NNP'),\n",
              " (',', ','),\n",
              " ('were', 'VBD'),\n",
              " ('proud', 'JJ'),\n",
              " ('to', 'TO'),\n",
              " ('say', 'VB'),\n",
              " ('that', 'IN'),\n",
              " ('they', 'PRP'),\n",
              " ('were', 'VBD'),\n",
              " ('perfectly', 'RB'),\n",
              " ('normal', 'JJ'),\n",
              " (',', ','),\n",
              " ('thank', 'NN'),\n",
              " ('you', 'PRP'),\n",
              " ('very', 'RB'),\n",
              " ('much', 'RB'),\n",
              " ('.', '.')]"
            ]
          },
          "metadata": {},
          "execution_count": 14
        }
      ]
    },
    {
      "cell_type": "code",
      "source": [
        "nltk.corpus.brown.tagged_words()"
      ],
      "metadata": {
        "id": "Lf6tWXoTa4Lz",
        "colab": {
          "base_uri": "https://localhost:8080/"
        },
        "outputId": "ab723630-d9d8-4108-fd8c-1992bdd7fd9b"
      },
      "execution_count": 4,
      "outputs": [
        {
          "output_type": "execute_result",
          "data": {
            "text/plain": [
              "[('The', 'AT'), ('Fulton', 'NP-TL'), ...]"
            ]
          },
          "metadata": {},
          "execution_count": 4
        }
      ]
    },
    {
      "cell_type": "code",
      "source": [
        "nltk.download('universal_tagset')\n",
        "brown_news_tagged = brown.tagged_words(categories='news', tagset='universal')\n",
        "tag_fd = nltk.FreqDist(tag for (word, tag) in brown_news_tagged)\n",
        "tag_fd.most_common()"
      ],
      "metadata": {
        "colab": {
          "base_uri": "https://localhost:8080/"
        },
        "id": "OiggkHTNb_s4",
        "outputId": "0a20b158-9876-416f-abf4-d3d1cca2952c"
      },
      "execution_count": 9,
      "outputs": [
        {
          "output_type": "stream",
          "name": "stderr",
          "text": [
            "[nltk_data] Downloading package universal_tagset to /root/nltk_data...\n",
            "[nltk_data]   Package universal_tagset is already up-to-date!\n"
          ]
        },
        {
          "output_type": "execute_result",
          "data": {
            "text/plain": [
              "[('NOUN', 30654),\n",
              " ('VERB', 14399),\n",
              " ('ADP', 12355),\n",
              " ('.', 11928),\n",
              " ('DET', 11389),\n",
              " ('ADJ', 6706),\n",
              " ('ADV', 3349),\n",
              " ('CONJ', 2717),\n",
              " ('PRON', 2535),\n",
              " ('PRT', 2264),\n",
              " ('NUM', 2166),\n",
              " ('X', 92)]"
            ]
          },
          "metadata": {},
          "execution_count": 9
        }
      ]
    },
    {
      "cell_type": "markdown",
      "source": [
        "PARSED"
      ],
      "metadata": {
        "id": "Uq8c5ddKeTRQ"
      }
    },
    {
      "cell_type": "code",
      "source": [
        "from nltk.corpus import treebank\n",
        "nltk.download('treebank')"
      ],
      "metadata": {
        "colab": {
          "base_uri": "https://localhost:8080/"
        },
        "id": "jxVSTxFbePmO",
        "outputId": "73c36c06-0e5a-48fa-b355-525d3d974743"
      },
      "execution_count": 20,
      "outputs": [
        {
          "output_type": "stream",
          "name": "stderr",
          "text": [
            "[nltk_data] Downloading package treebank to /root/nltk_data...\n",
            "[nltk_data]   Package treebank is already up-to-date!\n"
          ]
        },
        {
          "output_type": "execute_result",
          "data": {
            "text/plain": [
              "True"
            ]
          },
          "metadata": {},
          "execution_count": 20
        }
      ]
    },
    {
      "cell_type": "code",
      "source": [
        "print(treebank.fileids())"
      ],
      "metadata": {
        "colab": {
          "base_uri": "https://localhost:8080/"
        },
        "id": "LHfRh5zIfHYf",
        "outputId": "901452a7-93b0-480d-ebfe-6176ae3f7dd9"
      },
      "execution_count": 18,
      "outputs": [
        {
          "output_type": "stream",
          "name": "stdout",
          "text": [
            "['wsj_0001.mrg', 'wsj_0002.mrg', 'wsj_0003.mrg', 'wsj_0004.mrg', 'wsj_0005.mrg', 'wsj_0006.mrg', 'wsj_0007.mrg', 'wsj_0008.mrg', 'wsj_0009.mrg', 'wsj_0010.mrg', 'wsj_0011.mrg', 'wsj_0012.mrg', 'wsj_0013.mrg', 'wsj_0014.mrg', 'wsj_0015.mrg', 'wsj_0016.mrg', 'wsj_0017.mrg', 'wsj_0018.mrg', 'wsj_0019.mrg', 'wsj_0020.mrg', 'wsj_0021.mrg', 'wsj_0022.mrg', 'wsj_0023.mrg', 'wsj_0024.mrg', 'wsj_0025.mrg', 'wsj_0026.mrg', 'wsj_0027.mrg', 'wsj_0028.mrg', 'wsj_0029.mrg', 'wsj_0030.mrg', 'wsj_0031.mrg', 'wsj_0032.mrg', 'wsj_0033.mrg', 'wsj_0034.mrg', 'wsj_0035.mrg', 'wsj_0036.mrg', 'wsj_0037.mrg', 'wsj_0038.mrg', 'wsj_0039.mrg', 'wsj_0040.mrg', 'wsj_0041.mrg', 'wsj_0042.mrg', 'wsj_0043.mrg', 'wsj_0044.mrg', 'wsj_0045.mrg', 'wsj_0046.mrg', 'wsj_0047.mrg', 'wsj_0048.mrg', 'wsj_0049.mrg', 'wsj_0050.mrg', 'wsj_0051.mrg', 'wsj_0052.mrg', 'wsj_0053.mrg', 'wsj_0054.mrg', 'wsj_0055.mrg', 'wsj_0056.mrg', 'wsj_0057.mrg', 'wsj_0058.mrg', 'wsj_0059.mrg', 'wsj_0060.mrg', 'wsj_0061.mrg', 'wsj_0062.mrg', 'wsj_0063.mrg', 'wsj_0064.mrg', 'wsj_0065.mrg', 'wsj_0066.mrg', 'wsj_0067.mrg', 'wsj_0068.mrg', 'wsj_0069.mrg', 'wsj_0070.mrg', 'wsj_0071.mrg', 'wsj_0072.mrg', 'wsj_0073.mrg', 'wsj_0074.mrg', 'wsj_0075.mrg', 'wsj_0076.mrg', 'wsj_0077.mrg', 'wsj_0078.mrg', 'wsj_0079.mrg', 'wsj_0080.mrg', 'wsj_0081.mrg', 'wsj_0082.mrg', 'wsj_0083.mrg', 'wsj_0084.mrg', 'wsj_0085.mrg', 'wsj_0086.mrg', 'wsj_0087.mrg', 'wsj_0088.mrg', 'wsj_0089.mrg', 'wsj_0090.mrg', 'wsj_0091.mrg', 'wsj_0092.mrg', 'wsj_0093.mrg', 'wsj_0094.mrg', 'wsj_0095.mrg', 'wsj_0096.mrg', 'wsj_0097.mrg', 'wsj_0098.mrg', 'wsj_0099.mrg', 'wsj_0100.mrg', 'wsj_0101.mrg', 'wsj_0102.mrg', 'wsj_0103.mrg', 'wsj_0104.mrg', 'wsj_0105.mrg', 'wsj_0106.mrg', 'wsj_0107.mrg', 'wsj_0108.mrg', 'wsj_0109.mrg', 'wsj_0110.mrg', 'wsj_0111.mrg', 'wsj_0112.mrg', 'wsj_0113.mrg', 'wsj_0114.mrg', 'wsj_0115.mrg', 'wsj_0116.mrg', 'wsj_0117.mrg', 'wsj_0118.mrg', 'wsj_0119.mrg', 'wsj_0120.mrg', 'wsj_0121.mrg', 'wsj_0122.mrg', 'wsj_0123.mrg', 'wsj_0124.mrg', 'wsj_0125.mrg', 'wsj_0126.mrg', 'wsj_0127.mrg', 'wsj_0128.mrg', 'wsj_0129.mrg', 'wsj_0130.mrg', 'wsj_0131.mrg', 'wsj_0132.mrg', 'wsj_0133.mrg', 'wsj_0134.mrg', 'wsj_0135.mrg', 'wsj_0136.mrg', 'wsj_0137.mrg', 'wsj_0138.mrg', 'wsj_0139.mrg', 'wsj_0140.mrg', 'wsj_0141.mrg', 'wsj_0142.mrg', 'wsj_0143.mrg', 'wsj_0144.mrg', 'wsj_0145.mrg', 'wsj_0146.mrg', 'wsj_0147.mrg', 'wsj_0148.mrg', 'wsj_0149.mrg', 'wsj_0150.mrg', 'wsj_0151.mrg', 'wsj_0152.mrg', 'wsj_0153.mrg', 'wsj_0154.mrg', 'wsj_0155.mrg', 'wsj_0156.mrg', 'wsj_0157.mrg', 'wsj_0158.mrg', 'wsj_0159.mrg', 'wsj_0160.mrg', 'wsj_0161.mrg', 'wsj_0162.mrg', 'wsj_0163.mrg', 'wsj_0164.mrg', 'wsj_0165.mrg', 'wsj_0166.mrg', 'wsj_0167.mrg', 'wsj_0168.mrg', 'wsj_0169.mrg', 'wsj_0170.mrg', 'wsj_0171.mrg', 'wsj_0172.mrg', 'wsj_0173.mrg', 'wsj_0174.mrg', 'wsj_0175.mrg', 'wsj_0176.mrg', 'wsj_0177.mrg', 'wsj_0178.mrg', 'wsj_0179.mrg', 'wsj_0180.mrg', 'wsj_0181.mrg', 'wsj_0182.mrg', 'wsj_0183.mrg', 'wsj_0184.mrg', 'wsj_0185.mrg', 'wsj_0186.mrg', 'wsj_0187.mrg', 'wsj_0188.mrg', 'wsj_0189.mrg', 'wsj_0190.mrg', 'wsj_0191.mrg', 'wsj_0192.mrg', 'wsj_0193.mrg', 'wsj_0194.mrg', 'wsj_0195.mrg', 'wsj_0196.mrg', 'wsj_0197.mrg', 'wsj_0198.mrg', 'wsj_0199.mrg']\n"
          ]
        }
      ]
    },
    {
      "cell_type": "code",
      "source": [
        "print(treebank.words('wsj_0003.mrg'))"
      ],
      "metadata": {
        "colab": {
          "base_uri": "https://localhost:8080/"
        },
        "id": "rRL8gdREfQha",
        "outputId": "7d281577-4ea8-44c8-8f1d-046d122bf88f"
      },
      "execution_count": 19,
      "outputs": [
        {
          "output_type": "stream",
          "name": "stdout",
          "text": [
            "['A', 'form', 'of', 'asbestos', 'once', 'used', '*', ...]\n"
          ]
        }
      ]
    },
    {
      "cell_type": "code",
      "source": [
        "print(treebank.tagged_words('wsj_0003.mrg'))"
      ],
      "metadata": {
        "colab": {
          "base_uri": "https://localhost:8080/"
        },
        "id": "sI-yfuQgfT-A",
        "outputId": "62dff602-0157-4ad5-da90-1b4dd4b6ebff"
      },
      "execution_count": 21,
      "outputs": [
        {
          "output_type": "stream",
          "name": "stdout",
          "text": [
            "[('A', 'DT'), ('form', 'NN'), ('of', 'IN'), ...]\n"
          ]
        }
      ]
    },
    {
      "cell_type": "code",
      "source": [
        "print(treebank.parsed_sents('wsj_0003.mrg')[0])"
      ],
      "metadata": {
        "colab": {
          "base_uri": "https://localhost:8080/"
        },
        "id": "FfhV3cF8fcgC",
        "outputId": "1124c8c3-1742-4ef2-df9c-6a0597529494"
      },
      "execution_count": 22,
      "outputs": [
        {
          "output_type": "stream",
          "name": "stdout",
          "text": [
            "(S\n",
            "  (S-TPC-1\n",
            "    (NP-SBJ\n",
            "      (NP (NP (DT A) (NN form)) (PP (IN of) (NP (NN asbestos))))\n",
            "      (RRC\n",
            "        (ADVP-TMP (RB once))\n",
            "        (VP\n",
            "          (VBN used)\n",
            "          (NP (-NONE- *))\n",
            "          (S-CLR\n",
            "            (NP-SBJ (-NONE- *))\n",
            "            (VP\n",
            "              (TO to)\n",
            "              (VP\n",
            "                (VB make)\n",
            "                (NP (NNP Kent) (NN cigarette) (NNS filters))))))))\n",
            "    (VP\n",
            "      (VBZ has)\n",
            "      (VP\n",
            "        (VBN caused)\n",
            "        (NP\n",
            "          (NP (DT a) (JJ high) (NN percentage))\n",
            "          (PP (IN of) (NP (NN cancer) (NNS deaths)))\n",
            "          (PP-LOC\n",
            "            (IN among)\n",
            "            (NP\n",
            "              (NP (DT a) (NN group))\n",
            "              (PP\n",
            "                (IN of)\n",
            "                (NP\n",
            "                  (NP (NNS workers))\n",
            "                  (RRC\n",
            "                    (VP\n",
            "                      (VBN exposed)\n",
            "                      (NP (-NONE- *))\n",
            "                      (PP-CLR (TO to) (NP (PRP it)))\n",
            "                      (ADVP-TMP\n",
            "                        (NP\n",
            "                          (QP (RBR more) (IN than) (CD 30))\n",
            "                          (NNS years))\n",
            "                        (IN ago))))))))))))\n",
            "  (, ,)\n",
            "  (NP-SBJ (NNS researchers))\n",
            "  (VP (VBD reported) (SBAR (-NONE- 0) (S (-NONE- *T*-1))))\n",
            "  (. .))\n"
          ]
        }
      ]
    },
    {
      "cell_type": "markdown",
      "source": [
        "`3) Create a text corpus with a minimum of 200 words (unique content). Implement the following text processing.`"
      ],
      "metadata": {
        "id": "AYm6zSFpgJ1q"
      }
    },
    {
      "cell_type": "code",
      "source": [
        "import os, os.path\n",
        "path = os.path.expanduser('~/nltk_data') \n",
        "if not os.path.exists(path):\n",
        "  os.mkdir(path)\n",
        "os.path.exists(path)"
      ],
      "metadata": {
        "colab": {
          "base_uri": "https://localhost:8080/"
        },
        "id": "94xWYXZHgUdn",
        "outputId": "c9e1dd65-9410-4efd-c3bc-28d3d5a464a1"
      },
      "execution_count": 31,
      "outputs": [
        {
          "output_type": "execute_result",
          "data": {
            "text/plain": [
              "True"
            ]
          },
          "metadata": {},
          "execution_count": 31
        }
      ]
    },
    {
      "cell_type": "code",
      "source": [
        "import nltk.data\n",
        "path in nltk.data.path"
      ],
      "metadata": {
        "colab": {
          "base_uri": "https://localhost:8080/"
        },
        "id": "zteV_nIFjEFB",
        "outputId": "b68aca2e-5f0f-4464-9cbe-8227c7e4e83f"
      },
      "execution_count": 32,
      "outputs": [
        {
          "output_type": "execute_result",
          "data": {
            "text/plain": [
              "True"
            ]
          },
          "metadata": {},
          "execution_count": 32
        }
      ]
    },
    {
      "cell_type": "code",
      "source": [
        "import nltk.data\n",
        "nltk.data.load('corpus/wordfile.txt', format = 'raw')"
      ],
      "metadata": {
        "colab": {
          "base_uri": "https://localhost:8080/"
        },
        "id": "cQWCtAbqjTCE",
        "outputId": "b9729e5e-0f7a-42a3-d43e-8f4e42bd79c0"
      },
      "execution_count": 49,
      "outputs": [
        {
          "output_type": "execute_result",
          "data": {
            "text/plain": [
              "b'Mr. Dursley was the director of a firm called Grunnings, which made drills. \\nHe was a big, beefy man with hardly any neck, al- though he did have a very large mustache. \\nMrs. Dursley was thin and blonde and had nearly twice the usual amount of neck, which came in very useful as she spent so much of her time craning over garden fences, spying on the neighbors. \\nThe Dursleys had a small son called Dudley and in their opinion there was no finer boy anywhere.\\nThe Dursleys had everything they wanted, but they also had a secret, and their greatest fear was that somebody would discover it.\\nHe laid Harry gently on the doorstep, took a letter out of his cloak, tucked it inside Harry\\xe2\\x80\\x99s blankets, and then came back to the other two. \\nFor a full minute the three of them stood and looked at the little bundle; Hagrid\\xe2\\x80\\x99s shoulders shook, Professor McGonagall blinked furiously, and the twinkling light that usually shone from Dumbledore\\xe2\\x80\\x99s eyes seemed to have gone out.'"
            ]
          },
          "metadata": {},
          "execution_count": 49
        }
      ]
    },
    {
      "cell_type": "markdown",
      "source": [
        "Word Segmentation"
      ],
      "metadata": {
        "id": "tgZqvYGnnlnn"
      }
    },
    {
      "cell_type": "code",
      "source": [
        "text = open('/content/corpus/wordfile.txt','r').read()"
      ],
      "metadata": {
        "id": "YfkEe0RsmS-n"
      },
      "execution_count": 47,
      "outputs": []
    },
    {
      "cell_type": "code",
      "source": [
        "print(word_tokenize(text))"
      ],
      "metadata": {
        "colab": {
          "base_uri": "https://localhost:8080/"
        },
        "id": "KajJmPmCnDD0",
        "outputId": "d3670352-3a4f-4ca3-f73c-1edd7d3524cf"
      },
      "execution_count": 51,
      "outputs": [
        {
          "output_type": "stream",
          "name": "stdout",
          "text": [
            "['Mr.', 'Dursley', 'was', 'the', 'director', 'of', 'a', 'firm', 'called', 'Grunnings', ',', 'which', 'made', 'drills', '.', 'He', 'was', 'a', 'big', ',', 'beefy', 'man', 'with', 'hardly', 'any', 'neck', ',', 'al-', 'though', 'he', 'did', 'have', 'a', 'very', 'large', 'mustache', '.', 'Mrs.', 'Dursley', 'was', 'thin', 'and', 'blonde', 'and', 'had', 'nearly', 'twice', 'the', 'usual', 'amount', 'of', 'neck', ',', 'which', 'came', 'in', 'very', 'useful', 'as', 'she', 'spent', 'so', 'much', 'of', 'her', 'time', 'craning', 'over', 'garden', 'fences', ',', 'spying', 'on', 'the', 'neighbors', '.', 'The', 'Dursleys', 'had', 'a', 'small', 'son', 'called', 'Dudley', 'and', 'in', 'their', 'opinion', 'there', 'was', 'no', 'finer', 'boy', 'anywhere', '.', 'The', 'Dursleys', 'had', 'everything', 'they', 'wanted', ',', 'but', 'they', 'also', 'had', 'a', 'secret', ',', 'and', 'their', 'greatest', 'fear', 'was', 'that', 'somebody', 'would', 'discover', 'it', '.', 'He', 'laid', 'Harry', 'gently', 'on', 'the', 'doorstep', ',', 'took', 'a', 'letter', 'out', 'of', 'his', 'cloak', ',', 'tucked', 'it', 'inside', 'Harry', '’', 's', 'blankets', ',', 'and', 'then', 'came', 'back', 'to', 'the', 'other', 'two', '.', 'For', 'a', 'full', 'minute', 'the', 'three', 'of', 'them', 'stood', 'and', 'looked', 'at', 'the', 'little', 'bundle', ';', 'Hagrid', '’', 's', 'shoulders', 'shook', ',', 'Professor', 'McGonagall', 'blinked', 'furiously', ',', 'and', 'the', 'twinkling', 'light', 'that', 'usually', 'shone', 'from', 'Dumbledore', '’', 's', 'eyes', 'seemed', 'to', 'have', 'gone', 'out', '.']\n"
          ]
        }
      ]
    },
    {
      "cell_type": "markdown",
      "source": [
        "Sentence Segmentation"
      ],
      "metadata": {
        "id": "rQarvuk4npIL"
      }
    },
    {
      "cell_type": "code",
      "source": [
        "from nltk.tokenize import sent_tokenize\n",
        "print(sent_tokenize(text))"
      ],
      "metadata": {
        "colab": {
          "base_uri": "https://localhost:8080/"
        },
        "id": "OtTMWlLZnXm2",
        "outputId": "e400163f-1649-42e3-9055-907ef5eb4eaa"
      },
      "execution_count": 52,
      "outputs": [
        {
          "output_type": "stream",
          "name": "stdout",
          "text": [
            "['Mr. Dursley was the director of a firm called Grunnings, which made drills.', 'He was a big, beefy man with hardly any neck, al- though he did have a very large mustache.', 'Mrs. Dursley was thin and blonde and had nearly twice the usual amount of neck, which came in very useful as she spent so much of her time craning over garden fences, spying on the neighbors.', 'The Dursleys had a small son called Dudley and in their opinion there was no finer boy anywhere.', 'The Dursleys had everything they wanted, but they also had a secret, and their greatest fear was that somebody would discover it.', 'He laid Harry gently on the doorstep, took a letter out of his cloak, tucked it inside Harry’s blankets, and then came back to the other two.', 'For a full minute the three of them stood and looked at the little bundle; Hagrid’s shoulders shook, Professor McGonagall blinked furiously, and the twinkling light that usually shone from Dumbledore’s eyes seemed to have gone out.']\n"
          ]
        }
      ]
    },
    {
      "cell_type": "markdown",
      "source": [
        "Convert to lowercase"
      ],
      "metadata": {
        "id": "gn2mSwsjnty5"
      }
    },
    {
      "cell_type": "code",
      "source": [
        "text.lower()"
      ],
      "metadata": {
        "colab": {
          "base_uri": "https://localhost:8080/",
          "height": 139
        },
        "id": "Hhx-mtgfne6-",
        "outputId": "7b02dba1-a0fa-4591-9ebc-cfcede60ad7f"
      },
      "execution_count": 53,
      "outputs": [
        {
          "output_type": "execute_result",
          "data": {
            "text/plain": [
              "'mr. dursley was the director of a firm called grunnings, which made drills. \\nhe was a big, beefy man with hardly any neck, al- though he did have a very large mustache. \\nmrs. dursley was thin and blonde and had nearly twice the usual amount of neck, which came in very useful as she spent so much of her time craning over garden fences, spying on the neighbors. \\nthe dursleys had a small son called dudley and in their opinion there was no finer boy anywhere.\\nthe dursleys had everything they wanted, but they also had a secret, and their greatest fear was that somebody would discover it.\\nhe laid harry gently on the doorstep, took a letter out of his cloak, tucked it inside harry’s blankets, and then came back to the other two. \\nfor a full minute the three of them stood and looked at the little bundle; hagrid’s shoulders shook, professor mcgonagall blinked furiously, and the twinkling light that usually shone from dumbledore’s eyes seemed to have gone out.'"
            ],
            "application/vnd.google.colaboratory.intrinsic+json": {
              "type": "string"
            }
          },
          "metadata": {},
          "execution_count": 53
        }
      ]
    },
    {
      "cell_type": "markdown",
      "source": [
        "Stop Words Removal"
      ],
      "metadata": {
        "id": "JfhASVbkqkaK"
      }
    },
    {
      "cell_type": "code",
      "source": [
        "from nltk.corpus import stopwords\n",
        "nltk.download('stopwords')\n",
        "stopword = stopwords.words('english')\n",
        "word_tokens = nltk.word_tokenize(text)\n",
        "removing_stopwords = [word for word in word_tokens if word not in stopword]\n",
        "print(removing_stopwords)"
      ],
      "metadata": {
        "colab": {
          "base_uri": "https://localhost:8080/"
        },
        "id": "rsXbi33pqGLh",
        "outputId": "15513314-83ef-4277-ed87-b6d14566aa82"
      },
      "execution_count": 56,
      "outputs": [
        {
          "output_type": "stream",
          "name": "stdout",
          "text": [
            "['Mr.', 'Dursley', 'director', 'firm', 'called', 'Grunnings', ',', 'made', 'drills', '.', 'He', 'big', ',', 'beefy', 'man', 'hardly', 'neck', ',', 'al-', 'though', 'large', 'mustache', '.', 'Mrs.', 'Dursley', 'thin', 'blonde', 'nearly', 'twice', 'usual', 'amount', 'neck', ',', 'came', 'useful', 'spent', 'much', 'time', 'craning', 'garden', 'fences', ',', 'spying', 'neighbors', '.', 'The', 'Dursleys', 'small', 'son', 'called', 'Dudley', 'opinion', 'finer', 'boy', 'anywhere', '.', 'The', 'Dursleys', 'everything', 'wanted', ',', 'also', 'secret', ',', 'greatest', 'fear', 'somebody', 'would', 'discover', '.', 'He', 'laid', 'Harry', 'gently', 'doorstep', ',', 'took', 'letter', 'cloak', ',', 'tucked', 'inside', 'Harry', '’', 'blankets', ',', 'came', 'back', 'two', '.', 'For', 'full', 'minute', 'three', 'stood', 'looked', 'little', 'bundle', ';', 'Hagrid', '’', 'shoulders', 'shook', ',', 'Professor', 'McGonagall', 'blinked', 'furiously', ',', 'twinkling', 'light', 'usually', 'shone', 'Dumbledore', '’', 'eyes', 'seemed', 'gone', '.']\n"
          ]
        },
        {
          "output_type": "stream",
          "name": "stderr",
          "text": [
            "[nltk_data] Downloading package stopwords to /root/nltk_data...\n",
            "[nltk_data]   Unzipping corpora/stopwords.zip.\n"
          ]
        }
      ]
    },
    {
      "cell_type": "markdown",
      "source": [
        "Stemming"
      ],
      "metadata": {
        "id": "1CA4Cciiqpn7"
      }
    },
    {
      "cell_type": "code",
      "source": [
        "from nltk.stem import SnowballStemmer\n",
        "stopword = stopwords.words('english')\n",
        "snowball_stemmer = SnowballStemmer('english')\n",
        "stemmed_word = [snowball_stemmer.stem(word) for word in word_tokens]\n",
        "print(stemmed_word)"
      ],
      "metadata": {
        "colab": {
          "base_uri": "https://localhost:8080/"
        },
        "id": "ONG-aiuaqZPE",
        "outputId": "1e33a072-7e77-4e3d-ff30-847e3744ee73"
      },
      "execution_count": 57,
      "outputs": [
        {
          "output_type": "stream",
          "name": "stdout",
          "text": [
            "['mr.', 'dursley', 'was', 'the', 'director', 'of', 'a', 'firm', 'call', 'grun', ',', 'which', 'made', 'drill', '.', 'he', 'was', 'a', 'big', ',', 'beefi', 'man', 'with', 'hard', 'ani', 'neck', ',', 'al-', 'though', 'he', 'did', 'have', 'a', 'veri', 'larg', 'mustach', '.', 'mrs.', 'dursley', 'was', 'thin', 'and', 'blond', 'and', 'had', 'near', 'twice', 'the', 'usual', 'amount', 'of', 'neck', ',', 'which', 'came', 'in', 'veri', 'use', 'as', 'she', 'spent', 'so', 'much', 'of', 'her', 'time', 'crane', 'over', 'garden', 'fenc', ',', 'spi', 'on', 'the', 'neighbor', '.', 'the', 'dursley', 'had', 'a', 'small', 'son', 'call', 'dudley', 'and', 'in', 'their', 'opinion', 'there', 'was', 'no', 'finer', 'boy', 'anywher', '.', 'the', 'dursley', 'had', 'everyth', 'they', 'want', ',', 'but', 'they', 'also', 'had', 'a', 'secret', ',', 'and', 'their', 'greatest', 'fear', 'was', 'that', 'somebodi', 'would', 'discov', 'it', '.', 'he', 'laid', 'harri', 'gentl', 'on', 'the', 'doorstep', ',', 'took', 'a', 'letter', 'out', 'of', 'his', 'cloak', ',', 'tuck', 'it', 'insid', 'harri', '’', 's', 'blanket', ',', 'and', 'then', 'came', 'back', 'to', 'the', 'other', 'two', '.', 'for', 'a', 'full', 'minut', 'the', 'three', 'of', 'them', 'stood', 'and', 'look', 'at', 'the', 'littl', 'bundl', ';', 'hagrid', '’', 's', 'shoulder', 'shook', ',', 'professor', 'mcgonagal', 'blink', 'furious', ',', 'and', 'the', 'twinkl', 'light', 'that', 'usual', 'shone', 'from', 'dumbledor', '’', 's', 'eye', 'seem', 'to', 'have', 'gone', 'out', '.']\n"
          ]
        }
      ]
    },
    {
      "cell_type": "markdown",
      "source": [
        "Lemmatization"
      ],
      "metadata": {
        "id": "0kW3W7c7q9Lx"
      }
    },
    {
      "cell_type": "code",
      "source": [
        "from nltk.stem import WordNetLemmatizer\n",
        "nltk.download('wordnet')\n",
        "nltk.download('omw-1.4')\n",
        "wordnet_lemmatizer = WordNetLemmatizer()\n",
        "lemmatized_word = [wordnet_lemmatizer.lemmatize(word) for word in word_tokens]\n",
        "print(lemmatized_word)"
      ],
      "metadata": {
        "colab": {
          "base_uri": "https://localhost:8080/"
        },
        "id": "uMsk8jWIq539",
        "outputId": "d88cda32-5e87-41b7-ecf7-f8012355d88d"
      },
      "execution_count": 60,
      "outputs": [
        {
          "output_type": "stream",
          "name": "stderr",
          "text": [
            "[nltk_data] Downloading package wordnet to /root/nltk_data...\n",
            "[nltk_data]   Package wordnet is already up-to-date!\n",
            "[nltk_data] Downloading package omw-1.4 to /root/nltk_data...\n"
          ]
        },
        {
          "output_type": "stream",
          "name": "stdout",
          "text": [
            "['Mr.', 'Dursley', 'wa', 'the', 'director', 'of', 'a', 'firm', 'called', 'Grunnings', ',', 'which', 'made', 'drill', '.', 'He', 'wa', 'a', 'big', ',', 'beefy', 'man', 'with', 'hardly', 'any', 'neck', ',', 'al-', 'though', 'he', 'did', 'have', 'a', 'very', 'large', 'mustache', '.', 'Mrs.', 'Dursley', 'wa', 'thin', 'and', 'blonde', 'and', 'had', 'nearly', 'twice', 'the', 'usual', 'amount', 'of', 'neck', ',', 'which', 'came', 'in', 'very', 'useful', 'a', 'she', 'spent', 'so', 'much', 'of', 'her', 'time', 'craning', 'over', 'garden', 'fence', ',', 'spying', 'on', 'the', 'neighbor', '.', 'The', 'Dursleys', 'had', 'a', 'small', 'son', 'called', 'Dudley', 'and', 'in', 'their', 'opinion', 'there', 'wa', 'no', 'finer', 'boy', 'anywhere', '.', 'The', 'Dursleys', 'had', 'everything', 'they', 'wanted', ',', 'but', 'they', 'also', 'had', 'a', 'secret', ',', 'and', 'their', 'greatest', 'fear', 'wa', 'that', 'somebody', 'would', 'discover', 'it', '.', 'He', 'laid', 'Harry', 'gently', 'on', 'the', 'doorstep', ',', 'took', 'a', 'letter', 'out', 'of', 'his', 'cloak', ',', 'tucked', 'it', 'inside', 'Harry', '’', 's', 'blanket', ',', 'and', 'then', 'came', 'back', 'to', 'the', 'other', 'two', '.', 'For', 'a', 'full', 'minute', 'the', 'three', 'of', 'them', 'stood', 'and', 'looked', 'at', 'the', 'little', 'bundle', ';', 'Hagrid', '’', 's', 'shoulder', 'shook', ',', 'Professor', 'McGonagall', 'blinked', 'furiously', ',', 'and', 'the', 'twinkling', 'light', 'that', 'usually', 'shone', 'from', 'Dumbledore', '’', 's', 'eye', 'seemed', 'to', 'have', 'gone', 'out', '.']\n"
          ]
        }
      ]
    },
    {
      "cell_type": "markdown",
      "source": [
        "Part of Speech tagger"
      ],
      "metadata": {
        "id": "w6Wlwb54rcyx"
      }
    },
    {
      "cell_type": "code",
      "source": [
        "word = nltk.word_tokenize(text)\n",
        "pos_tag = nltk.pos_tag(word)\n",
        "print(pos_tag)"
      ],
      "metadata": {
        "colab": {
          "base_uri": "https://localhost:8080/"
        },
        "id": "1Lo4MrvGrSpn",
        "outputId": "3d04f719-d3db-4a3c-8727-cb70c1f306a8"
      },
      "execution_count": 62,
      "outputs": [
        {
          "output_type": "stream",
          "name": "stdout",
          "text": [
            "[('Mr.', 'NNP'), ('Dursley', 'NNP'), ('was', 'VBD'), ('the', 'DT'), ('director', 'NN'), ('of', 'IN'), ('a', 'DT'), ('firm', 'NN'), ('called', 'VBN'), ('Grunnings', 'NNP'), (',', ','), ('which', 'WDT'), ('made', 'VBD'), ('drills', 'NNS'), ('.', '.'), ('He', 'PRP'), ('was', 'VBD'), ('a', 'DT'), ('big', 'JJ'), (',', ','), ('beefy', 'JJ'), ('man', 'NN'), ('with', 'IN'), ('hardly', 'RB'), ('any', 'DT'), ('neck', 'NN'), (',', ','), ('al-', 'JJ'), ('though', 'IN'), ('he', 'PRP'), ('did', 'VBD'), ('have', 'VB'), ('a', 'DT'), ('very', 'RB'), ('large', 'JJ'), ('mustache', 'NN'), ('.', '.'), ('Mrs.', 'NNP'), ('Dursley', 'NNP'), ('was', 'VBD'), ('thin', 'JJ'), ('and', 'CC'), ('blonde', 'NN'), ('and', 'CC'), ('had', 'VBD'), ('nearly', 'RB'), ('twice', 'RB'), ('the', 'DT'), ('usual', 'JJ'), ('amount', 'NN'), ('of', 'IN'), ('neck', 'NN'), (',', ','), ('which', 'WDT'), ('came', 'VBD'), ('in', 'IN'), ('very', 'RB'), ('useful', 'JJ'), ('as', 'IN'), ('she', 'PRP'), ('spent', 'VBD'), ('so', 'RB'), ('much', 'JJ'), ('of', 'IN'), ('her', 'PRP$'), ('time', 'NN'), ('craning', 'NN'), ('over', 'IN'), ('garden', 'NN'), ('fences', 'NNS'), (',', ','), ('spying', 'VBG'), ('on', 'IN'), ('the', 'DT'), ('neighbors', 'NNS'), ('.', '.'), ('The', 'DT'), ('Dursleys', 'NNP'), ('had', 'VBD'), ('a', 'DT'), ('small', 'JJ'), ('son', 'NN'), ('called', 'VBN'), ('Dudley', 'NNP'), ('and', 'CC'), ('in', 'IN'), ('their', 'PRP$'), ('opinion', 'NN'), ('there', 'EX'), ('was', 'VBD'), ('no', 'DT'), ('finer', 'NN'), ('boy', 'RB'), ('anywhere', 'RB'), ('.', '.'), ('The', 'DT'), ('Dursleys', 'NNP'), ('had', 'VBD'), ('everything', 'NN'), ('they', 'PRP'), ('wanted', 'VBD'), (',', ','), ('but', 'CC'), ('they', 'PRP'), ('also', 'RB'), ('had', 'VBD'), ('a', 'DT'), ('secret', 'JJ'), (',', ','), ('and', 'CC'), ('their', 'PRP$'), ('greatest', 'JJS'), ('fear', 'NN'), ('was', 'VBD'), ('that', 'IN'), ('somebody', 'NN'), ('would', 'MD'), ('discover', 'VB'), ('it', 'PRP'), ('.', '.'), ('He', 'PRP'), ('laid', 'VBD'), ('Harry', 'NNP'), ('gently', 'RB'), ('on', 'IN'), ('the', 'DT'), ('doorstep', 'NN'), (',', ','), ('took', 'VBD'), ('a', 'DT'), ('letter', 'NN'), ('out', 'IN'), ('of', 'IN'), ('his', 'PRP$'), ('cloak', 'NN'), (',', ','), ('tucked', 'VBD'), ('it', 'PRP'), ('inside', 'IN'), ('Harry', 'NNP'), ('’', 'NNP'), ('s', 'JJ'), ('blankets', 'NNS'), (',', ','), ('and', 'CC'), ('then', 'RB'), ('came', 'VBD'), ('back', 'RB'), ('to', 'TO'), ('the', 'DT'), ('other', 'JJ'), ('two', 'CD'), ('.', '.'), ('For', 'IN'), ('a', 'DT'), ('full', 'JJ'), ('minute', 'NN'), ('the', 'DT'), ('three', 'CD'), ('of', 'IN'), ('them', 'PRP'), ('stood', 'VBD'), ('and', 'CC'), ('looked', 'VBD'), ('at', 'IN'), ('the', 'DT'), ('little', 'JJ'), ('bundle', 'NN'), (';', ':'), ('Hagrid', 'NNP'), ('’', 'NNP'), ('s', 'NN'), ('shoulders', 'NNS'), ('shook', 'VBP'), (',', ','), ('Professor', 'NNP'), ('McGonagall', 'NNP'), ('blinked', 'VBD'), ('furiously', 'RB'), (',', ','), ('and', 'CC'), ('the', 'DT'), ('twinkling', 'NN'), ('light', 'NN'), ('that', 'WDT'), ('usually', 'RB'), ('shone', 'VBP'), ('from', 'IN'), ('Dumbledore', 'NNP'), ('’', 'NNP'), ('s', 'VBD'), ('eyes', 'NNS'), ('seemed', 'VBD'), ('to', 'TO'), ('have', 'VB'), ('gone', 'VBN'), ('out', 'RP'), ('.', '.')]\n"
          ]
        }
      ]
    }
  ]
}